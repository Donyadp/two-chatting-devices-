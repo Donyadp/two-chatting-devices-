{
 "cells": [
  {
   "cell_type": "code",
   "execution_count": null,
   "id": "0504dc1b-fa95-4088-9463-4fceb82bba8c",
   "metadata": {},
   "outputs": [],
   "source": [
    "import socket\n",
    "\n",
    "def start_server():\n",
    "    server_ip = \"0.0.0.0\" \n",
    "    port = 12345\n",
    "\n",
    "    server_socket = socket.socket(socket.AF_INET, socket.SOCK_STREAM)\n",
    "    server_socket.bind((server_ip, port))\n",
    "    server_socket.listen(1)\n",
    "    \n",
    "    print(f\"Server listening on {server_ip}:{port}\")\n",
    "    \n",
    "    conn, client_addr = server_socket.accept()\n",
    "    print(f\"Connected by {client_addr}\")\n",
    "    \n",
    "    while True:\n",
    "        data = conn.recv(1024).decode(\"utf-8\")\n",
    "        if not data:\n",
    "            break\n",
    "        print(f\"Client: {data}\")\n",
    "        \n",
    "        message = input(\"You: \")\n",
    "        conn.sendall(message.encode(\"utf-8\"))\n",
    "\n",
    "    conn.close()\n",
    "    server_socket.close()\n",
    "\n",
    "start_server()\n"
   ]
  }
 ],
 "metadata": {
  "kernelspec": {
   "display_name": "Python 3 (ipykernel)",
   "language": "python",
   "name": "python3"
  },
  "language_info": {
   "codemirror_mode": {
    "name": "ipython",
    "version": 3
   },
   "file_extension": ".py",
   "mimetype": "text/x-python",
   "name": "python",
   "nbconvert_exporter": "python",
   "pygments_lexer": "ipython3",
   "version": "3.12.7"
  }
 },
 "nbformat": 4,
 "nbformat_minor": 5
}
