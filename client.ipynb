{
 "cells": [
  {
   "cell_type": "code",
   "execution_count": null,
   "id": "8bae08f3-d29f-482f-ba09-d666e1a84f82",
   "metadata": {},
   "outputs": [],
   "source": [
    "import socket\n",
    "\n",
    "def start_client():\n",
    "    \n",
    "    server_ip = \"127.0.0.1\" \n",
    "    port = 12345\n",
    "\n",
    "   \n",
    "    client_socket = socket.socket(socket.AF_INET, socket.SOCK_STREAM)\n",
    "    client_socket.connect((server_ip, port))\n",
    "    \n",
    "    print(\"Connected to the server.\")\n",
    "   \n",
    "    while True:\n",
    "       \n",
    "        message = input(\"You: \")\n",
    "        client_socket.sendall(message.encode(\"utf-8\"))\n",
    "        \n",
    "      \n",
    "        data = client_socket.recv(1024).decode(\"utf-8\")\n",
    "        if not data:\n",
    "            break\n",
    "        print(f\"Server: {data}\")\n",
    "    \n",
    "   \n",
    "    client_socket.close()\n",
    "\n",
    "start_client()\n"
   ]
  }
 ],
 "metadata": {
  "kernelspec": {
   "display_name": "Python 3 (ipykernel)",
   "language": "python",
   "name": "python3"
  },
  "language_info": {
   "codemirror_mode": {
    "name": "ipython",
    "version": 3
   },
   "file_extension": ".py",
   "mimetype": "text/x-python",
   "name": "python",
   "nbconvert_exporter": "python",
   "pygments_lexer": "ipython3",
   "version": "3.12.7"
  }
 },
 "nbformat": 4,
 "nbformat_minor": 5
}
